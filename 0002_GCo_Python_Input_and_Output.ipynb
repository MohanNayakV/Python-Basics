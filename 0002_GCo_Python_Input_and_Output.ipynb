{
  "nbformat": 4,
  "nbformat_minor": 0,
  "metadata": {
    "colab": {
      "name": "0002.GCo_Python_Input and Output.ipynb",
      "provenance": [],
      "collapsed_sections": [],
      "authorship_tag": "ABX9TyMpMlMp7yANir+1BGyu3Q/j",
      "include_colab_link": true
    },
    "kernelspec": {
      "name": "python3",
      "display_name": "Python 3"
    },
    "language_info": {
      "name": "python"
    }
  },
  "cells": [
    {
      "cell_type": "markdown",
      "metadata": {
        "id": "view-in-github",
        "colab_type": "text"
      },
      "source": [
        "<a href=\"https://colab.research.google.com/github/MohanNayakV/Python-Basics/blob/main/0002_GCo_Python_Input_and_Output.ipynb\" target=\"_parent\"><img src=\"https://colab.research.google.com/assets/colab-badge.svg\" alt=\"Open In Colab\"/></a>"
      ]
    },
    {
      "cell_type": "markdown",
      "source": [
        "# 7. Input and Output\n",
        "There are several ways to present the output of a program; data can be printed in a human-readable form, or written to a file for future use. This chapter will discuss some of the possibilities.\n",
        "\n",
        "# 7.1. Fancier Output Formatting\n",
        "So far we’ve encountered two ways of writing values: expression statements and the print() function. (A third way is using the write() method of file objects; the standard output file can be referenced as sys.stdout. See the Library Reference for more information on this.)\n",
        "\n",
        "Often you’ll want more control over the formatting of your output than simply printing space-separated values. There are several ways to format output.\n",
        "\n",
        "To use formatted string literals, begin a string with f or F before the opening quotation mark or triple quotation mark. Inside this string, you can write a Python expression between { and } characters that can refer to variables or literal values."
      ],
      "metadata": {
        "id": "gti5Z5ahZunN"
      }
    },
    {
      "cell_type": "code",
      "source": [
        "year = 2021 \n",
        "event = 'Referendum'\n",
        "f'Results of the {year} {event}'"
      ],
      "metadata": {
        "colab": {
          "base_uri": "https://localhost:8080/",
          "height": 35
        },
        "id": "oHTtKr5sZyJR",
        "outputId": "6684be96-0342-4ca6-8cb9-cd207978e8ff"
      },
      "execution_count": 3,
      "outputs": [
        {
          "output_type": "execute_result",
          "data": {
            "text/plain": [
              "'Results of the 2021 Referendum'"
            ],
            "application/vnd.google.colaboratory.intrinsic+json": {
              "type": "string"
            }
          },
          "metadata": {},
          "execution_count": 3
        }
      ]
    },
    {
      "cell_type": "markdown",
      "source": [
        "\n",
        "\n",
        "*   The str.format() method of strings requires more manual effort. You’ll still use { and } to mark where a variable will be substituted and can provide detailed formatting directives, but you’ll also need to provide the information to be formatted.\n",
        "\n",
        "\n"
      ],
      "metadata": {
        "id": "6euEQG5maW0S"
      }
    },
    {
      "cell_type": "code",
      "source": [
        "yes_votes = 42_572_654\n",
        "no_votes = 43_132_495\n",
        "percentage = yes_votes / (yes_votes + no_votes)\n",
        "'{:-9} YES votes  {:2.2%}'.format(yes_votes, percentage)"
      ],
      "metadata": {
        "colab": {
          "base_uri": "https://localhost:8080/",
          "height": 35
        },
        "id": "kcMypvSQabmZ",
        "outputId": "9a3c611e-2f59-4e92-9a0f-c7e6d0b07eac"
      },
      "execution_count": 4,
      "outputs": [
        {
          "output_type": "execute_result",
          "data": {
            "text/plain": [
              "' 42572654 YES votes  49.67%'"
            ],
            "application/vnd.google.colaboratory.intrinsic+json": {
              "type": "string"
            }
          },
          "metadata": {},
          "execution_count": 4
        }
      ]
    },
    {
      "cell_type": "markdown",
      "source": [
        "\n",
        "\n",
        "*   Finally, you can do all the string handling yourself by using string slicing and concatenation operations to create any layout you can imagine. The string type has some methods that perform useful operations for padding strings to a given column width.\n",
        "\n",
        "When you don’t need fancy output but just want a quick display of some variables for debugging purposes, you can convert any value to a string with the repr() or str() functions.\n",
        "\n",
        "The str() function is meant to return representations of values which are fairly human-readable, while repr() is meant to generate representations which can be read by the interpreter (or will force a SyntaxError if there is no equivalent syntax). For objects which don’t have a particular representation for human consumption, str() will return the same value as repr(). Many values, such as numbers or structures like lists and dictionaries, have the same representation using either function. Strings, in particular, have two distinct representations.\n",
        "\n",
        "Some examples:\n",
        "\n",
        "\n"
      ],
      "metadata": {
        "id": "tQ0JGataattC"
      }
    },
    {
      "cell_type": "code",
      "source": [
        "s = 'Hello, world.'\n",
        "str(s)"
      ],
      "metadata": {
        "colab": {
          "base_uri": "https://localhost:8080/",
          "height": 35
        },
        "id": "5AqApirYaxdo",
        "outputId": "ada25b88-b080-4782-b201-db43061f8da8"
      },
      "execution_count": 5,
      "outputs": [
        {
          "output_type": "execute_result",
          "data": {
            "text/plain": [
              "'Hello, world.'"
            ],
            "application/vnd.google.colaboratory.intrinsic+json": {
              "type": "string"
            }
          },
          "metadata": {},
          "execution_count": 5
        }
      ]
    },
    {
      "cell_type": "code",
      "source": [
        "repr(s)"
      ],
      "metadata": {
        "colab": {
          "base_uri": "https://localhost:8080/",
          "height": 35
        },
        "id": "QTW2TBmba0AB",
        "outputId": "1b5a71f2-9079-4b09-f125-043f05f94211"
      },
      "execution_count": 6,
      "outputs": [
        {
          "output_type": "execute_result",
          "data": {
            "text/plain": [
              "\"'Hello, world.'\""
            ],
            "application/vnd.google.colaboratory.intrinsic+json": {
              "type": "string"
            }
          },
          "metadata": {},
          "execution_count": 6
        }
      ]
    },
    {
      "cell_type": "code",
      "source": [
        "str(1/7)"
      ],
      "metadata": {
        "colab": {
          "base_uri": "https://localhost:8080/",
          "height": 35
        },
        "id": "nZF1HemAa2ch",
        "outputId": "2f7d68bf-f2a9-4fbc-a758-42bce1425966"
      },
      "execution_count": 7,
      "outputs": [
        {
          "output_type": "execute_result",
          "data": {
            "text/plain": [
              "'0.14285714285714285'"
            ],
            "application/vnd.google.colaboratory.intrinsic+json": {
              "type": "string"
            }
          },
          "metadata": {},
          "execution_count": 7
        }
      ]
    },
    {
      "cell_type": "code",
      "source": [
        "x = 10 * 3.25\n",
        "y = 200 * 200\n",
        "s = 'The value of x is ' + repr(x) + ', and y is ' + repr(y) + '...'\n",
        "print(s)"
      ],
      "metadata": {
        "colab": {
          "base_uri": "https://localhost:8080/"
        },
        "id": "QaDEJLUea48x",
        "outputId": "5090dc2b-e5b7-4896-9361-f3fce6290c3e"
      },
      "execution_count": 8,
      "outputs": [
        {
          "output_type": "stream",
          "name": "stdout",
          "text": [
            "The value of x is 32.5, and y is 40000...\n"
          ]
        }
      ]
    },
    {
      "cell_type": "code",
      "source": [
        "hello = 'hello, world\\n'\n",
        "hellos = repr(hello)\n",
        "print(hellos)"
      ],
      "metadata": {
        "colab": {
          "base_uri": "https://localhost:8080/"
        },
        "id": "7qGGIDcoa8Bo",
        "outputId": "ec0251ba-3074-4510-b851-a399fcfdc965"
      },
      "execution_count": 9,
      "outputs": [
        {
          "output_type": "stream",
          "name": "stdout",
          "text": [
            "'hello, world\\n'\n"
          ]
        }
      ]
    },
    {
      "cell_type": "code",
      "source": [
        "# The argument to repr() may be any Python object:\n",
        "repr((x, y, ('spam', 'eggs')))"
      ],
      "metadata": {
        "colab": {
          "base_uri": "https://localhost:8080/",
          "height": 35
        },
        "id": "aMEGDal9a-zB",
        "outputId": "644f012e-ea82-4dc6-8fde-b3623d739c1e"
      },
      "execution_count": 10,
      "outputs": [
        {
          "output_type": "execute_result",
          "data": {
            "text/plain": [
              "\"(32.5, 40000, ('spam', 'eggs'))\""
            ],
            "application/vnd.google.colaboratory.intrinsic+json": {
              "type": "string"
            }
          },
          "metadata": {},
          "execution_count": 10
        }
      ]
    },
    {
      "cell_type": "markdown",
      "source": [
        "The string module contains a Template class that offers yet another way to substitute values into strings, using placeholders like $x and replacing them with values from a dictionary, but offers much less control of the formatting.\n",
        "\n",
        "# 7.1.1. Formatted String Literals\n",
        "Formatted string literals (also called f-strings for short) let you include the value of Python expressions inside a string by prefixing the string with f or F and writing expressions as {expression}.\n",
        "\n",
        "An optional format specifier can follow the expression. This allows greater control over how the value is formatted. The following example rounds pi to three places after the decimal:"
      ],
      "metadata": {
        "id": "_uk65l1tbE36"
      }
    },
    {
      "cell_type": "code",
      "source": [
        "import math \n",
        "print(f'The value of pi is approximately {math.pi:.3f}.')"
      ],
      "metadata": {
        "colab": {
          "base_uri": "https://localhost:8080/"
        },
        "id": "ffPcxPHdbGXA",
        "outputId": "6e01d901-ee25-4acf-d99e-0d22aa22b4ba"
      },
      "execution_count": 11,
      "outputs": [
        {
          "output_type": "stream",
          "name": "stdout",
          "text": [
            "The value of pi is approximately 3.142.\n"
          ]
        }
      ]
    },
    {
      "cell_type": "markdown",
      "source": [
        "Passing an integer after the ':' will cause that field to be a minimum number of characters wide. This is useful for making columns line up"
      ],
      "metadata": {
        "id": "iSqjyDKtbVlC"
      }
    },
    {
      "cell_type": "code",
      "source": [
        "table = {'Sjoerd': 4127, 'Jack': 4098, 'Dcab': 7678}\n",
        "for name, phone in table.items():\n",
        "    print(f'{name:10} ==> {phone:10d}')"
      ],
      "metadata": {
        "colab": {
          "base_uri": "https://localhost:8080/"
        },
        "id": "36V_F0PHbWFw",
        "outputId": "e430b884-823c-4b90-ba94-7492558d485a"
      },
      "execution_count": 12,
      "outputs": [
        {
          "output_type": "stream",
          "name": "stdout",
          "text": [
            "Sjoerd     ==>       4127\n",
            "Jack       ==>       4098\n",
            "Dcab       ==>       7678\n"
          ]
        }
      ]
    },
    {
      "cell_type": "markdown",
      "source": [
        "Other modifiers can be used to convert the value before it is formatted. '!a' applies ascii(), '!s' applies str(), and '!r' applies repr():"
      ],
      "metadata": {
        "id": "dkgCbeTMbnDC"
      }
    },
    {
      "cell_type": "code",
      "source": [
        "animals = 'eels'\n",
        "print(f'My hovercraft is full of {animals}.')\n",
        "print(f'My hovercraft is full of {animals!r}.')"
      ],
      "metadata": {
        "colab": {
          "base_uri": "https://localhost:8080/"
        },
        "id": "oxDu55MJbnoQ",
        "outputId": "e9ee082b-484f-4cec-d783-b3423b538089"
      },
      "execution_count": 13,
      "outputs": [
        {
          "output_type": "stream",
          "name": "stdout",
          "text": [
            "My hovercraft is full of eels.\n",
            "My hovercraft is full of 'eels'.\n"
          ]
        }
      ]
    },
    {
      "cell_type": "markdown",
      "source": [
        "For a reference on these format specifications, see the reference guide for the Format Specification Mini-Language.\n",
        "\n",
        "# 7.1.2. The String format() Method\n",
        "Basic usage of the str.format() method looks like this:"
      ],
      "metadata": {
        "id": "9LfIU6R3bwXE"
      }
    },
    {
      "cell_type": "code",
      "source": [
        "print('We are the {} who say \"{}!\"'.format('knights', 'Ni'))"
      ],
      "metadata": {
        "colab": {
          "base_uri": "https://localhost:8080/"
        },
        "id": "09DlEx1Ebxlp",
        "outputId": "14f5b274-e305-4a7b-8721-89e9613d1e2f"
      },
      "execution_count": 14,
      "outputs": [
        {
          "output_type": "stream",
          "name": "stdout",
          "text": [
            "We are the knights who say \"Ni!\"\n"
          ]
        }
      ]
    },
    {
      "cell_type": "markdown",
      "source": [
        "The brackets and characters within them (called format fields) are replaced with the objects passed into the str.format() method. A number in the brackets can be used to refer to the position of the object passed into the str.format() method."
      ],
      "metadata": {
        "id": "dxh8DyYKb2f6"
      }
    },
    {
      "cell_type": "code",
      "source": [
        "print('{0} and {1}'.format('spam', 'eggs'))\n",
        "print('{1} and {0}'.format('spam', 'eggs'))"
      ],
      "metadata": {
        "colab": {
          "base_uri": "https://localhost:8080/"
        },
        "id": "GBU6ZyR2b3CZ",
        "outputId": "3014f3cf-8eeb-4815-ebe4-8936e2d3220e"
      },
      "execution_count": 15,
      "outputs": [
        {
          "output_type": "stream",
          "name": "stdout",
          "text": [
            "spam and eggs\n",
            "eggs and spam\n"
          ]
        }
      ]
    },
    {
      "cell_type": "markdown",
      "source": [
        "If keyword arguments are used in the str.format() method, their values are referred to by using the name of the argument."
      ],
      "metadata": {
        "id": "B7bJXGaZcBe6"
      }
    },
    {
      "cell_type": "code",
      "source": [
        "print('This {food} is {adjective}.'.format(\n",
        "      food='spam', adjective='absolutely horrible'))"
      ],
      "metadata": {
        "colab": {
          "base_uri": "https://localhost:8080/"
        },
        "id": "-bCNgy9rcB2h",
        "outputId": "9bfa3b83-4ec3-4c11-d887-5ab681a6c801"
      },
      "execution_count": 16,
      "outputs": [
        {
          "output_type": "stream",
          "name": "stdout",
          "text": [
            "This spam is absolutely horrible.\n"
          ]
        }
      ]
    },
    {
      "cell_type": "markdown",
      "source": [
        "Positional and keyword arguments can be arbitrarily combined:"
      ],
      "metadata": {
        "id": "6_TuEFvycIOS"
      }
    },
    {
      "cell_type": "code",
      "source": [
        "print('The story of {0}, {1}, and {other}.'.format('Bill', 'Manfred',\n",
        "                                                       other='Georg'))"
      ],
      "metadata": {
        "colab": {
          "base_uri": "https://localhost:8080/"
        },
        "id": "EquE1RflcPCW",
        "outputId": "a1065961-64a6-43f3-dff3-04aef09f1b4c"
      },
      "execution_count": 18,
      "outputs": [
        {
          "output_type": "stream",
          "name": "stdout",
          "text": [
            "The story of Bill, Manfred, and Georg.\n"
          ]
        }
      ]
    },
    {
      "cell_type": "markdown",
      "source": [
        "If you have a really long format string that you don’t want to split up, it would be nice if you could reference the variables to be formatted by name instead of by position. This can be done by simply passing the dict and using square brackets '[]' to access the keys."
      ],
      "metadata": {
        "id": "8KAdCdTWcVnD"
      }
    },
    {
      "cell_type": "code",
      "source": [
        "table = {'Sjoerd': 4127, 'Jack': 4098, 'Dcab': 8637678}\n",
        "print('Jack: {0[Jack]:d}; Sjoerd: {0[Sjoerd]:d}; '\n",
        "      'Dcab: {0[Dcab]:d}'.format(table))"
      ],
      "metadata": {
        "colab": {
          "base_uri": "https://localhost:8080/"
        },
        "id": "6uPtiInXcWDp",
        "outputId": "281cec71-edc5-4bcb-eca9-6b1f3cca4abd"
      },
      "execution_count": 19,
      "outputs": [
        {
          "output_type": "stream",
          "name": "stdout",
          "text": [
            "Jack: 4098; Sjoerd: 4127; Dcab: 8637678\n"
          ]
        }
      ]
    },
    {
      "cell_type": "markdown",
      "source": [
        "This could also be done by passing the table as keyword arguments with the ‘**’ notation."
      ],
      "metadata": {
        "id": "iQ8vSZJ2ca9g"
      }
    },
    {
      "cell_type": "code",
      "source": [
        "table = {'Sjoerd': 4127, 'Jack': 4098, 'Dcab': 8637678}\n",
        "print('Jack: {Jack:d}; Sjoerd: {Sjoerd:d}; Dcab: {Dcab:d}'.format(**table))"
      ],
      "metadata": {
        "colab": {
          "base_uri": "https://localhost:8080/"
        },
        "id": "2TxdInl6cbUh",
        "outputId": "f2cceb6f-ed14-4bfe-c4eb-1215b7b8ac17"
      },
      "execution_count": 20,
      "outputs": [
        {
          "output_type": "stream",
          "name": "stdout",
          "text": [
            "Jack: 4098; Sjoerd: 4127; Dcab: 8637678\n"
          ]
        }
      ]
    },
    {
      "cell_type": "markdown",
      "source": [
        "This is particularly useful in combination with the built-in function vars(), which returns a dictionary containing all local variables.\n",
        "\n",
        "As an example, the following lines produce a tidily-aligned set of columns giving integers and their squares and cubes:"
      ],
      "metadata": {
        "id": "JYhPqpbncgHL"
      }
    },
    {
      "cell_type": "code",
      "source": [
        "for x in range(1, 11):\n",
        "  print('{0:2d} {1:3d} {2:4d}'.format(x,x*x,x*x*x))"
      ],
      "metadata": {
        "colab": {
          "base_uri": "https://localhost:8080/"
        },
        "id": "TzeV2-h0cgjB",
        "outputId": "b83460c0-e4b9-4743-b1e0-f36c53145c71"
      },
      "execution_count": 21,
      "outputs": [
        {
          "output_type": "stream",
          "name": "stdout",
          "text": [
            " 1   1    1\n",
            " 2   4    8\n",
            " 3   9   27\n",
            " 4  16   64\n",
            " 5  25  125\n",
            " 6  36  216\n",
            " 7  49  343\n",
            " 8  64  512\n",
            " 9  81  729\n",
            "10 100 1000\n"
          ]
        }
      ]
    },
    {
      "cell_type": "markdown",
      "source": [
        "For a complete overview of string formatting with str.format(), see Format String Syntax.\n",
        "\n",
        "# 7.1.3. Manual String Formatting\n",
        "Here’s the same table of squares and cubes, formatted manually:"
      ],
      "metadata": {
        "id": "dhUzAiWJdHUD"
      }
    },
    {
      "cell_type": "code",
      "source": [
        "for x in range(1, 11):\n",
        "    print(repr(x).rjust(2), repr(x*x).rjust(3), end=' ')\n",
        "    # Note use of 'end' on previous line\n",
        "    print(repr(x*x*x).rjust(4))"
      ],
      "metadata": {
        "colab": {
          "base_uri": "https://localhost:8080/"
        },
        "id": "0ZUjeYjqdIW5",
        "outputId": "019ab060-7959-4ce3-d668-c2fc7dee43f3"
      },
      "execution_count": 22,
      "outputs": [
        {
          "output_type": "stream",
          "name": "stdout",
          "text": [
            " 1   1    1\n",
            " 2   4    8\n",
            " 3   9   27\n",
            " 4  16   64\n",
            " 5  25  125\n",
            " 6  36  216\n",
            " 7  49  343\n",
            " 8  64  512\n",
            " 9  81  729\n",
            "10 100 1000\n"
          ]
        }
      ]
    },
    {
      "cell_type": "markdown",
      "source": [
        "(Note that the one space between each column was added by the way print() works: it always adds spaces between its arguments.)\n",
        "\n",
        "The str.rjust() method of string objects right-justifies a string in a field of a given width by padding it with spaces on the left. There are similar methods str.ljust() and str.center(). These methods do not write anything, they just return a new string. If the input string is too long, they don’t truncate it, but return it unchanged; this will mess up your column lay-out but that’s usually better than the alternative, which would be lying about a value. (If you really want truncation you can always add a slice operation, as in x.ljust(n)[:n].)\n",
        "\n",
        "There is another method, str.zfill(), which pads a numeric string on the left with zeros. It understands about plus and minus signs:"
      ],
      "metadata": {
        "id": "I206sJIHe98r"
      }
    },
    {
      "cell_type": "code",
      "source": [
        "'12'.zfill(5)"
      ],
      "metadata": {
        "colab": {
          "base_uri": "https://localhost:8080/",
          "height": 35
        },
        "id": "tZt7qF4Ue-f6",
        "outputId": "760d83bf-d0f9-4cd9-da70-2fbd838152c4"
      },
      "execution_count": 23,
      "outputs": [
        {
          "output_type": "execute_result",
          "data": {
            "text/plain": [
              "'00012'"
            ],
            "application/vnd.google.colaboratory.intrinsic+json": {
              "type": "string"
            }
          },
          "metadata": {},
          "execution_count": 23
        }
      ]
    },
    {
      "cell_type": "code",
      "source": [
        "'-3.14'.zfill(7)"
      ],
      "metadata": {
        "colab": {
          "base_uri": "https://localhost:8080/",
          "height": 35
        },
        "id": "JbWjAEWUfAci",
        "outputId": "49848c3e-9d89-42de-a683-5237a0dac396"
      },
      "execution_count": 24,
      "outputs": [
        {
          "output_type": "execute_result",
          "data": {
            "text/plain": [
              "'-003.14'"
            ],
            "application/vnd.google.colaboratory.intrinsic+json": {
              "type": "string"
            }
          },
          "metadata": {},
          "execution_count": 24
        }
      ]
    },
    {
      "cell_type": "code",
      "source": [
        "'3.14159265359'.zfill(5)"
      ],
      "metadata": {
        "colab": {
          "base_uri": "https://localhost:8080/",
          "height": 35
        },
        "id": "Pxj26gk3fCkK",
        "outputId": "a8429201-f8ba-48ba-c24e-5bc7a08d3e0d"
      },
      "execution_count": 26,
      "outputs": [
        {
          "output_type": "execute_result",
          "data": {
            "text/plain": [
              "'3.14159265359'"
            ],
            "application/vnd.google.colaboratory.intrinsic+json": {
              "type": "string"
            }
          },
          "metadata": {},
          "execution_count": 26
        }
      ]
    },
    {
      "cell_type": "markdown",
      "source": [
        "# 7.1.4. Old string formatting\n",
        "The % operator (modulo) can also be used for string formatting. Given 'string' % values, instances of % in string are replaced with zero or more elements of values. This operation is commonly known as string interpolation. For example:"
      ],
      "metadata": {
        "id": "zpWwHXJYfK4U"
      }
    },
    {
      "cell_type": "code",
      "source": [
        "import math\n",
        "print('The value of pi is approximately %5.3f.' % math.pi)"
      ],
      "metadata": {
        "colab": {
          "base_uri": "https://localhost:8080/"
        },
        "id": "b29-F7lWfNA5",
        "outputId": "e87084b1-f9c7-4b5d-aade-4347e2f81e4b"
      },
      "execution_count": 27,
      "outputs": [
        {
          "output_type": "stream",
          "name": "stdout",
          "text": [
            "The value of pi is approximately 3.142.\n"
          ]
        }
      ]
    },
    {
      "cell_type": "markdown",
      "source": [
        "More information can be found in the printf-style String Formatting section.\n",
        "\n",
        "# 7.2. Reading and Writing Files\n",
        "open() returns a file object, and is most commonly used with two arguments: open(filename, mode)."
      ],
      "metadata": {
        "id": "p5yIK3-sfUKb"
      }
    },
    {
      "cell_type": "code",
      "source": [
        "f = open('workfile', 'w')"
      ],
      "metadata": {
        "id": "7t4S6YtKfV2x"
      },
      "execution_count": 28,
      "outputs": []
    },
    {
      "cell_type": "markdown",
      "source": [
        "The first argument is a string containing the filename. The second argument is another string containing a few characters describing the way in which the file will be used. mode can be 'r' when the file will only be read, 'w' for only writing (an existing file with the same name will be erased), and 'a' opens the file for appending; any data written to the file is automatically added to the end. 'r+' opens the file for both reading and writing. The mode argument is optional; 'r' will be assumed if it’s omitted.\n",
        "\n",
        "Normally, files are opened in text mode, that means, you read and write strings from and to the file, which are encoded in a specific encoding. If encoding is not specified, the default is platform dependent (see open()). 'b' appended to the mode opens the file in binary mode: now the data is read and written in the form of bytes objects. This mode should be used for all files that don’t contain text.\n",
        "\n",
        "In text mode, the default when reading is to convert platform-specific line endings (\\n on Unix, \\r\\n on Windows) to just \\n. When writing in text mode, the default is to convert occurrences of \\n back to platform-specific line endings. This behind-the-scenes modification to file data is fine for text files, but will corrupt binary data like that in JPEG or EXE files. Be very careful to use binary mode when reading and writing such files.\n",
        "\n",
        "It is good practice to use the with keyword when dealing with file objects. The advantage is that the file is properly closed after its suite finishes, even if an exception is raised at some point. Using with is also much shorter than writing equivalent try-finally blocks:"
      ],
      "metadata": {
        "id": "V1vhLO16favj"
      }
    },
    {
      "cell_type": "code",
      "source": [
        "with open('workfile') as f:\n",
        "    read_data = f.read()\n",
        "# We can check that the file has been automatically closed.\n",
        "f.closed"
      ],
      "metadata": {
        "colab": {
          "base_uri": "https://localhost:8080/"
        },
        "id": "hwgyEHw-fbJB",
        "outputId": "51f67b8b-b0b9-4433-fa63-8be6b74930b0"
      },
      "execution_count": 29,
      "outputs": [
        {
          "output_type": "execute_result",
          "data": {
            "text/plain": [
              "True"
            ]
          },
          "metadata": {},
          "execution_count": 29
        }
      ]
    },
    {
      "cell_type": "markdown",
      "source": [
        "If you’re not using the with keyword, then you should call f.close() to close the file and immediately free up any system resources used by it.\n",
        "\n",
        "Warning Calling f.write() without using the with keyword or calling f.close() might result in the arguments of f.write() not being completely written to the disk, even if the program exits successfully.\n",
        "\n",
        "After a file object is closed, either by a with statement or by calling f.close(), attempts to use the file object will automatically fail."
      ],
      "metadata": {
        "id": "50xm8TzXfiAe"
      }
    },
    {
      "cell_type": "markdown",
      "source": [
        "# 7.2.1. Methods of File Objects\n",
        "The rest of the examples in this section will assume that a file object called f has already been created.\n",
        "\n",
        "To read a file’s contents, call f.read(size), which reads some quantity of data and returns it as a string (in text mode) or bytes object (in binary mode). size is an optional numeric argument. When size is omitted or negative, the entire contents of the file will be read and returned; it’s your problem if the file is twice as large as your machine’s memory. Otherwise, at most size characters (in text mode) or size bytes (in binary mode) are read and returned. If the end of the file has been reached, f.read() will return an empty string ('')."
      ],
      "metadata": {
        "id": "CnviWOVhfqz8"
      }
    },
    {
      "cell_type": "code",
      "source": [
        "f.read()\n",
        "'This is the entire file.\\n'\n",
        "f.read()"
      ],
      "metadata": {
        "id": "Leztv1Qffr_a"
      },
      "execution_count": null,
      "outputs": []
    },
    {
      "cell_type": "markdown",
      "source": [
        "f.readline() reads a single line from the file; a newline character (\\n) is left at the end of the string, and is only omitted on the last line of the file if the file doesn’t end in a newline. This makes the return value unambiguous; if f.readline() returns an empty string, the end of the file has been reached, while a blank line is represented by '\\n', a string containing only a single newline."
      ],
      "metadata": {
        "id": "LFl7fHcJf0Qm"
      }
    },
    {
      "cell_type": "code",
      "source": [
        "f.readline()\n",
        "'This is the first line of the file.\\n'\n",
        "f.readline()\n",
        "'Second line of the file\\n'\n",
        "f.readline()"
      ],
      "metadata": {
        "id": "rRzr2zUVf7-V"
      },
      "execution_count": null,
      "outputs": []
    },
    {
      "cell_type": "markdown",
      "source": [
        "For reading lines from a file, you can loop over the file object. This is memory efficient, fast, and leads to simple code"
      ],
      "metadata": {
        "id": "KUor0ekif8yc"
      }
    },
    {
      "cell_type": "code",
      "source": [
        "for line in f:\n",
        "    print(line, end='')"
      ],
      "metadata": {
        "id": "CQ6IVon6f-Ga"
      },
      "execution_count": null,
      "outputs": []
    },
    {
      "cell_type": "markdown",
      "source": [
        "If you want to read all the lines of a file in a list you can also use list(f) or f.readlines().\n",
        "\n",
        "f.write(string) writes the contents of string to the file, returning the number of characters written."
      ],
      "metadata": {
        "id": "vSLHpBnYgCSs"
      }
    },
    {
      "cell_type": "code",
      "source": [
        "f.write('This is a test\\n')"
      ],
      "metadata": {
        "id": "S5ZZ0iJXf_tK"
      },
      "execution_count": null,
      "outputs": []
    },
    {
      "cell_type": "markdown",
      "source": [
        "Other types of objects need to be converted – either to a string (in text mode) or a bytes object (in binary mode) – before writing them:"
      ],
      "metadata": {
        "id": "VWBe8bxlgG-k"
      }
    },
    {
      "cell_type": "code",
      "source": [
        "value = ('the answer', 42)\n",
        "s = str(value)  # convert the tuple to string\n",
        "f.write(s)"
      ],
      "metadata": {
        "id": "HVh0l-xqgEpa"
      },
      "execution_count": null,
      "outputs": []
    },
    {
      "cell_type": "markdown",
      "source": [
        "f.tell() returns an integer giving the file object’s current position in the file represented as number of bytes from the beginning of the file when in binary mode and an opaque number when in text mode.\n",
        "\n",
        "To change the file object’s position, use f.seek(offset, whence). The position is computed from adding offset to a reference point; the reference point is selected by the whence argument. A whence value of 0 measures from the beginning of the file, 1 uses the current file position, and 2 uses the end of the file as the reference point. whence can be omitted and defaults to 0, using the beginning of the file as the reference point."
      ],
      "metadata": {
        "id": "i_Ex4Aj4gNN0"
      }
    },
    {
      "cell_type": "code",
      "source": [
        "f = open('workfile', 'rb+')\n",
        "f.write(b'0123456789abcdef')"
      ],
      "metadata": {
        "colab": {
          "base_uri": "https://localhost:8080/"
        },
        "id": "zzZ4O6PagO66",
        "outputId": "c238b311-16d4-4dae-b63c-2b7e742e04fb"
      },
      "execution_count": 35,
      "outputs": [
        {
          "output_type": "execute_result",
          "data": {
            "text/plain": [
              "16"
            ]
          },
          "metadata": {},
          "execution_count": 35
        }
      ]
    },
    {
      "cell_type": "code",
      "source": [
        "f.seek(5)      # Go to the 6th byte in the file\n",
        "f.read(1)\n",
        "f.seek(-3, 2)  # Go to the 3rd byte before the end\n",
        "f.read(1)"
      ],
      "metadata": {
        "colab": {
          "base_uri": "https://localhost:8080/"
        },
        "id": "ivrYsrKVgSMK",
        "outputId": "2a14ef7a-50ff-43da-960e-a11f99d09926"
      },
      "execution_count": 36,
      "outputs": [
        {
          "output_type": "execute_result",
          "data": {
            "text/plain": [
              "b'd'"
            ]
          },
          "metadata": {},
          "execution_count": 36
        }
      ]
    },
    {
      "cell_type": "code",
      "source": [
        ""
      ],
      "metadata": {
        "id": "NWIL080qgX07"
      },
      "execution_count": null,
      "outputs": []
    },
    {
      "cell_type": "markdown",
      "source": [
        "In text files (those opened without a b in the mode string), only seeks relative to the beginning of the file are allowed (the exception being seeking to the very file end with seek(0, 2)) and the only valid offset values are those returned from the f.tell(), or zero. Any other offset value produces undefined behaviour.\n",
        "\n",
        "File objects have some additional methods, such as isatty() and truncate() which are less frequently used; consult the Library Reference for a complete guide to file objects.\n",
        "\n",
        "# 7.2.2. Saving structured data with json\n",
        "Strings can easily be written to and read from a file. Numbers take a bit more effort, since the read() method only returns strings, which will have to be passed to a function like int(), which takes a string like '123' and returns its numeric value 123. When you want to save more complex data types like nested lists and dictionaries, parsing and serializing by hand becomes complicated.\n",
        "\n",
        "Rather than having users constantly writing and debugging code to save complicated data types to files, Python allows you to use the popular data interchange format called JSON (JavaScript Object Notation). The standard module called json can take Python data hierarchies, and convert them to string representations; this process is called serializing. Reconstructing the data from the string representation is called deserializing. Between serializing and deserializing, the string representing the object may have been stored in a file or data, or sent over a network connection to some distant machine.\n",
        "\n",
        "**Note** The JSON format is commonly used by modern applications to allow for data exchange. Many programmers are already familiar with it, which makes it a good choice for interoperability.\n",
        "If you have an object x, you can view its JSON string representation with a simple line of code:\n",
        "\n"
      ],
      "metadata": {
        "id": "Sog9M4bbghzs"
      }
    },
    {
      "cell_type": "code",
      "source": [
        "import json\n",
        "x = [1, 'simple', 'list']\n",
        "json.dumps(x)"
      ],
      "metadata": {
        "colab": {
          "base_uri": "https://localhost:8080/",
          "height": 35
        },
        "id": "UpmHN2bygmaJ",
        "outputId": "2ad06751-d67c-4ad4-c85e-9f89d1734c3d"
      },
      "execution_count": 37,
      "outputs": [
        {
          "output_type": "execute_result",
          "data": {
            "text/plain": [
              "'[1, \"simple\", \"list\"]'"
            ],
            "application/vnd.google.colaboratory.intrinsic+json": {
              "type": "string"
            }
          },
          "metadata": {},
          "execution_count": 37
        }
      ]
    },
    {
      "cell_type": "markdown",
      "source": [
        "Another variant of the dumps() function, called dump(), simply serializes the object to a text file. So if f is a text file object opened for writing, we can do this:"
      ],
      "metadata": {
        "id": "vmeTANxsh02V"
      }
    },
    {
      "cell_type": "code",
      "source": [
        "json.dump(x,f)"
      ],
      "metadata": {
        "id": "_sxP709ah1gy"
      },
      "execution_count": null,
      "outputs": []
    },
    {
      "cell_type": "markdown",
      "source": [
        "To decode the object again, if f is a text file object which has been opened for reading:"
      ],
      "metadata": {
        "id": "JO9LmejXh9GM"
      }
    },
    {
      "cell_type": "code",
      "source": [
        "x = json.load(f)"
      ],
      "metadata": {
        "id": "duymEA_oh9ya"
      },
      "execution_count": null,
      "outputs": []
    },
    {
      "cell_type": "markdown",
      "source": [
        "This simple serialization technique can handle lists and dictionaries, but serializing arbitrary class instances in JSON requires a bit of extra effort. The reference for the json module contains an explanation of this."
      ],
      "metadata": {
        "id": "87CAgv64iAQt"
      }
    },
    {
      "cell_type": "code",
      "source": [
        ""
      ],
      "metadata": {
        "id": "-a1_6eZ_iCcy"
      },
      "execution_count": null,
      "outputs": []
    }
  ]
}